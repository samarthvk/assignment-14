{
 "cells": [
  {
   "cell_type": "markdown",
   "id": "21f15f91",
   "metadata": {},
   "source": [
    "1. What does RGBA stand for?"
   ]
  },
  {
   "cell_type": "markdown",
   "id": "9505d553",
   "metadata": {},
   "source": [
    "ans:\n",
    "An RGBA value is a group of numbers that specify the amount of red, green, blue, and alpha (or transparency) in a color."
   ]
  },
  {
   "cell_type": "markdown",
   "id": "b4a2c463",
   "metadata": {},
   "source": [
    "2. From the Pillow module, how do you get the RGBA value of any images?"
   ]
  },
  {
   "cell_type": "markdown",
   "id": "28530af3",
   "metadata": {},
   "source": [
    "ans:\n",
    "    ImageColor.getcolor() gives rgba value of any image"
   ]
  },
  {
   "cell_type": "markdown",
   "id": "491dbae1",
   "metadata": {},
   "source": [
    "3. What is a box tuple, and how does it work?"
   ]
  },
  {
   "cell_type": "markdown",
   "id": "58480f7b",
   "metadata": {},
   "source": [
    "ans:\n",
    "    Box tuple is container of tuple of four integers where x-coordinate is represented by left edge, y-coordinate by top\n",
    "edge width and height respectively."
   ]
  },
  {
   "cell_type": "markdown",
   "id": "32abee73",
   "metadata": {},
   "source": [
    "4. Use your image and load in notebook then, How can you find out the width and height of an Image object?"
   ]
  },
  {
   "cell_type": "markdown",
   "id": "054da4bd",
   "metadata": {},
   "source": [
    "ans:\n",
    "    "
   ]
  },
  {
   "cell_type": "code",
   "execution_count": 2,
   "id": "db5360b5",
   "metadata": {},
   "outputs": [
    {
     "name": "stdout",
     "output_type": "stream",
     "text": [
      "Width, Height -> (1568, 1972)\n"
     ]
    }
   ],
   "source": [
    "from PIL import Image\n",
    "pic = Image.open('IMG.jpg')\n",
    "print(f'Width, Height -> {pic.size}')"
   ]
  },
  {
   "cell_type": "markdown",
   "id": "af092e36",
   "metadata": {},
   "source": [
    "5. What method would you call to get Image object for a 100×100 image, excluding the lower-left quarter of it?"
   ]
  },
  {
   "cell_type": "code",
   "execution_count": 4,
   "id": "c2181251",
   "metadata": {},
   "outputs": [],
   "source": [
    "#ans:\n",
    "from PIL import Image\n",
    "img = Image.open('IMG.jpg')\n",
    "new_img = img.crop((0,50,50,50))"
   ]
  },
  {
   "cell_type": "markdown",
   "id": "a080340b",
   "metadata": {},
   "source": [
    "6. After making changes to an Image object, how could you save it as an image file?"
   ]
  },
  {
   "cell_type": "code",
   "execution_count": 5,
   "id": "ab6b4fb8",
   "metadata": {},
   "outputs": [],
   "source": [
    "#ans:\n",
    "from PIL import Image\n",
    "pic = Image.open('IMG.jpg')\n",
    "pic.save('IMG2.jpg')"
   ]
  },
  {
   "cell_type": "markdown",
   "id": "b92ae13e",
   "metadata": {},
   "source": [
    "7. What module contains Pillow’s shape-drawing code?"
   ]
  },
  {
   "cell_type": "markdown",
   "id": "e07b281c",
   "metadata": {},
   "source": [
    "ans:\n",
    "    ImageDraw module  contains Pillow’s shape-drawing code"
   ]
  },
  {
   "cell_type": "markdown",
   "id": "3cafbd95",
   "metadata": {},
   "source": [
    "8. Image objects do not have drawing methods. What kind of object does? How do you get this kind of object?"
   ]
  },
  {
   "cell_type": "markdown",
   "id": "c5779874",
   "metadata": {},
   "source": [
    "ans:\n",
    "     ImageDraw objects have shape-drawing methods such as point(), line(), or rectangle().They are returned by passing the Image object to the ImageDraw.Draw() function."
   ]
  },
  {
   "cell_type": "code",
   "execution_count": null,
   "id": "e439eba1",
   "metadata": {},
   "outputs": [],
   "source": []
  }
 ],
 "metadata": {
  "kernelspec": {
   "display_name": "Python 3 (ipykernel)",
   "language": "python",
   "name": "python3"
  },
  "language_info": {
   "codemirror_mode": {
    "name": "ipython",
    "version": 3
   },
   "file_extension": ".py",
   "mimetype": "text/x-python",
   "name": "python",
   "nbconvert_exporter": "python",
   "pygments_lexer": "ipython3",
   "version": "3.9.7"
  }
 },
 "nbformat": 4,
 "nbformat_minor": 5
}
